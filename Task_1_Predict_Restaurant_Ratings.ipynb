{
  "nbformat": 4,
  "nbformat_minor": 0,
  "metadata": {
    "colab": {
      "private_outputs": true,
      "provenance": []
    },
    "kernelspec": {
      "name": "python3",
      "display_name": "Python 3"
    },
    "language_info": {
      "name": "python"
    }
  },
  "cells": [
    {
      "cell_type": "markdown",
      "source": [
        "# **Task 1**\n",
        "\n",
        "### *This italicized text is the first task of the Machine Learning internship project provided by the company Cognifyz.*"
      ],
      "metadata": {
        "id": "ULODr5Ath1_u"
      }
    },
    {
      "cell_type": "markdown",
      "source": [
        "# **Objective:** Build a machine learning model to predict the aggregate rating of a restaurant based on oter features.\n",
        "\n",
        "\n",
        "\n",
        "# **Libraries and Data Loading**"
      ],
      "metadata": {
        "id": "fDrDfzWIh_-Z"
      }
    },
    {
      "cell_type": "code",
      "source": [
        "import pandas as pd\n",
        "import numpy as np\n",
        "import seaborn as sns\n",
        "import matplotlib.pyplot as plt\n",
        "import io\n"
      ],
      "metadata": {
        "id": "IlsJoJFmHC4f"
      },
      "execution_count": null,
      "outputs": []
    },
    {
      "cell_type": "code",
      "source": [
        "data = pd.read_csv('Dataset .csv')\n",
        "data.head()\n"
      ],
      "metadata": {
        "id": "sNOxSMGbLi__"
      },
      "execution_count": null,
      "outputs": []
    },
    {
      "cell_type": "code",
      "source": [
        "data.info()"
      ],
      "metadata": {
        "id": "R4UxzVdgLzW2"
      },
      "execution_count": null,
      "outputs": []
    },
    {
      "cell_type": "code",
      "source": [
        "data.describe()"
      ],
      "metadata": {
        "id": "XLZQRYFML44p"
      },
      "execution_count": null,
      "outputs": []
    },
    {
      "cell_type": "code",
      "source": [
        "data.shape"
      ],
      "metadata": {
        "id": "LWyJEAP2L_DS"
      },
      "execution_count": null,
      "outputs": []
    },
    {
      "cell_type": "code",
      "source": [
        "data.isnull().sum()"
      ],
      "metadata": {
        "id": "pk9dxEOJMGj3"
      },
      "execution_count": null,
      "outputs": []
    },
    {
      "cell_type": "markdown",
      "source": [
        "# **visualization**"
      ],
      "metadata": {
        "id": "_eO5RbyUP3uP"
      }
    },
    {
      "cell_type": "code",
      "source": [
        "\n",
        "sns.heatmap(data.corr(),annot=True)"
      ],
      "metadata": {
        "id": "SA6sP-sJvuUE"
      },
      "execution_count": null,
      "outputs": []
    },
    {
      "cell_type": "code",
      "source": [
        "\n",
        "plt.hist(data['Price range'])"
      ],
      "metadata": {
        "id": "9RLUIXzmOEcG"
      },
      "execution_count": null,
      "outputs": []
    },
    {
      "cell_type": "code",
      "source": [
        "\n",
        "plt.hist(data['Price range'])"
      ],
      "metadata": {
        "id": "Ba6Uc3s1v4OS"
      },
      "execution_count": null,
      "outputs": []
    },
    {
      "cell_type": "markdown",
      "source": [
        "# **Encoding categorical variables**"
      ],
      "metadata": {
        "id": "qjrh3K-3PWwZ"
      }
    },
    {
      "cell_type": "code",
      "source": [
        "from sklearn.preprocessing import LabelEncoder\n",
        "categorical_columns = ['Restaurant Name', 'City', 'Address', 'Locality', 'Locality Verbose',\n",
        "                       'Cuisines', 'Currency', 'Has Table booking', 'Has Online delivery',\n",
        "                       'Is delivering now', 'Switch to order menu', 'Rating color', 'Rating text']\n",
        "\n",
        "# Initialize the LabelEncoder\n",
        "label_encoder = LabelEncoder()\n",
        "\n",
        "# Apply Label Encoding to each categorical column\n",
        "for column in categorical_columns:\n",
        "    data[column] = label_encoder.fit_transform(data[column])\n"
      ],
      "metadata": {
        "id": "XLkzXCFIwD6x"
      },
      "execution_count": null,
      "outputs": []
    },
    {
      "cell_type": "code",
      "source": [
        "\n",
        "data.head()"
      ],
      "metadata": {
        "id": "wZvfZNLZwHXh"
      },
      "execution_count": null,
      "outputs": []
    },
    {
      "cell_type": "code",
      "source": [
        "x=data.drop(['Aggregate rating','Is delivering now','City','Longitude','Latitude','Is delivering now'],axis=1)\n",
        "y=data['Aggregate rating']"
      ],
      "metadata": {
        "id": "PaWRqZfMOpJP"
      },
      "execution_count": null,
      "outputs": []
    },
    {
      "cell_type": "code",
      "source": [
        "from sklearn.model_selection import train_test_split\n",
        "x_train,x_test,y_train,y_test=train_test_split(x,y,random_state=42,test_size=0.2)\n"
      ],
      "metadata": {
        "id": "y7h35OcJOr3v"
      },
      "execution_count": null,
      "outputs": []
    },
    {
      "cell_type": "code",
      "source": [
        "from sklearn.tree import DecisionTreeRegressor\n",
        "from sklearn.svm import SVR\n",
        "from sklearn.ensemble import RandomForestRegressor\n",
        "from sklearn.linear_model import LinearRegression\n",
        "from sklearn.metrics import mean_squared_error, r2_score"
      ],
      "metadata": {
        "id": "4Po4GuCDOvAP"
      },
      "execution_count": null,
      "outputs": []
    },
    {
      "cell_type": "code",
      "source": [
        "models = [\n",
        "    (\"Linear Regression\", LinearRegression()),\n",
        "    (\"SVR\", SVR()),\n",
        "    (\"Decision Tree Regression\", DecisionTreeRegressor()),\n",
        "    (\"Random Forest Regression\", RandomForestRegressor()),]\n"
      ],
      "metadata": {
        "id": "pkfRXgGEOyt_"
      },
      "execution_count": null,
      "outputs": []
    },
    {
      "cell_type": "code",
      "source": [
        "for name, model in models:\n",
        "    model.fit(x_train, y_train)\n",
        "    y_pred = model.predict(x_test)\n",
        "    mse = mean_squared_error(y_test, y_pred)\n",
        "    r2 = r2_score(y_test, y_pred)\n",
        "    print(f\"Model: {name}\")\n",
        "    print(f\"MSE: {mse:.4f}\")\n",
        "    print(f\"R-squared: {r2:.4f}\")\n",
        "    print(\"=\" * 40)\n"
      ],
      "metadata": {
        "id": "Bt0X5PLTO5HI"
      },
      "execution_count": null,
      "outputs": []
    },
    {
      "cell_type": "markdown",
      "source": [
        "## **Model prediction**"
      ],
      "metadata": {
        "id": "t8FI52OrPM8N"
      }
    },
    {
      "cell_type": "code",
      "source": [
        "Model = RandomForestRegressor()\n",
        "Model.fit(x_train, y_train)\n",
        "\n",
        "# Get feature importances\n",
        "feature_importances = Model.feature_importances_\n",
        "feature_names = x.columns\n",
        "\n",
        "# Create a DataFrame to display feature importances\n",
        "importance_df = pd.DataFrame({'Feature': feature_names, 'Importance': feature_importances})\n",
        "\n",
        "# Sort the features by importance to identify influential features\n",
        "importance_df = importance_df.sort_values(by='Importance')\n",
        "\n",
        "print(\"Feature Importance Summary:\")\n",
        "print(importance_df)\n"
      ],
      "metadata": {
        "id": "9X_oKeNQO_TH"
      },
      "execution_count": null,
      "outputs": []
    },
    {
      "cell_type": "markdown",
      "source": [
        "# **Task 1 completed**\n"
      ],
      "metadata": {
        "id": "5TSPwcU_najR"
      }
    }
  ]
}